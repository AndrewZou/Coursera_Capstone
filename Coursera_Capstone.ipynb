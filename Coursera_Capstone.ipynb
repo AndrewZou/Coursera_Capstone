{
  "nbformat": 4,
  "nbformat_minor": 0,
  "metadata": {
    "colab": {
      "name": "Untitled3.ipynb",
      "version": "0.3.2",
      "provenance": [],
      "include_colab_link": true
    },
    "kernelspec": {
      "name": "python3",
      "display_name": "Python 3"
    }
  },
  "cells": [
    {
      "cell_type": "markdown",
      "metadata": {
        "id": "view-in-github",
        "colab_type": "text"
      },
      "source": [
        "<a href=\"https://colab.research.google.com/github/AndrewZou/Coursera_Capstone/blob/master/Coursera_Capstone.ipynb\" target=\"_parent\"><img src=\"https://colab.research.google.com/assets/colab-badge.svg\" alt=\"Open In Colab\"/></a>"
      ]
    },
    {
      "cell_type": "markdown",
      "metadata": {
        "id": "onCiFvyRPn3Q",
        "colab_type": "text"
      },
      "source": [
        "## Project Requirements\n",
        "\n",
        "Create a new repository on your Github account and name it Coursera_Capstone. \n",
        "\n",
        "- Now, start a Jupyter Notebook using any platform that you are comfortable with and do the following:\n",
        "\n",
        "    1. Write some markdown to explain that this notebook will be mainly used for the capstone project.\n",
        "    2. Import the pandas library as pd.\n",
        "    3. Import the Numpy library as np.\n",
        "    4. Print the following the statement: Hello Capstone Project Course!\n",
        "    5. Push the Notebook to your Github repository and submit a link to the notebook on your Github repository."
      ]
    },
    {
      "cell_type": "markdown",
      "metadata": {
        "id": "wDA4UxwIP7Qn",
        "colab_type": "text"
      },
      "source": [
        "#### A Jupyter Notebook program for coursera capstone project\n"
      ]
    },
    {
      "cell_type": "code",
      "metadata": {
        "id": "cWJx4YV8QI5v",
        "colab_type": "code",
        "colab": {}
      },
      "source": [
        "# import Python packages\n",
        "import pandas as pd\n",
        "import numpy as np"
      ],
      "execution_count": 0,
      "outputs": []
    },
    {
      "cell_type": "markdown",
      "metadata": {
        "id": "CtpjLKFVQWVg",
        "colab_type": "text"
      },
      "source": [
        "Let us test the Python environment for imported packages"
      ]
    },
    {
      "cell_type": "code",
      "metadata": {
        "id": "FSAfVGUgQjSB",
        "colab_type": "code",
        "colab": {
          "base_uri": "https://localhost:8080/",
          "height": 173
        },
        "outputId": "c81c50af-0a98-487e-efa7-89d15dd489b6"
      },
      "source": [
        "# create a Pandas DataFrame object\n",
        "dataset = {\"State\": [\"Texas\", \"Illinois\", \"California\", \"Massachusetts\"],\n",
        "           \"Capital\": [\"Austin\", \"Springfield\", \"Sacramento\", \"Boston\"],\n",
        "           \"Population\": [931830, 114868,  509082, 698898],\n",
        "           \"Year\": [2019, 2019, 2019, 2018]}\n",
        "df = pd.DataFrame(dataset, columns = ['State', 'Capital', 'Population', 'Year'])\n",
        "df"
      ],
      "execution_count": 2,
      "outputs": [
        {
          "output_type": "execute_result",
          "data": {
            "text/html": [
              "<div>\n",
              "<style scoped>\n",
              "    .dataframe tbody tr th:only-of-type {\n",
              "        vertical-align: middle;\n",
              "    }\n",
              "\n",
              "    .dataframe tbody tr th {\n",
              "        vertical-align: top;\n",
              "    }\n",
              "\n",
              "    .dataframe thead th {\n",
              "        text-align: right;\n",
              "    }\n",
              "</style>\n",
              "<table border=\"1\" class=\"dataframe\">\n",
              "  <thead>\n",
              "    <tr style=\"text-align: right;\">\n",
              "      <th></th>\n",
              "      <th>State</th>\n",
              "      <th>Capital</th>\n",
              "      <th>Population</th>\n",
              "      <th>Year</th>\n",
              "    </tr>\n",
              "  </thead>\n",
              "  <tbody>\n",
              "    <tr>\n",
              "      <th>0</th>\n",
              "      <td>Texas</td>\n",
              "      <td>Austin</td>\n",
              "      <td>931830</td>\n",
              "      <td>2019</td>\n",
              "    </tr>\n",
              "    <tr>\n",
              "      <th>1</th>\n",
              "      <td>Illinois</td>\n",
              "      <td>Springfield</td>\n",
              "      <td>114868</td>\n",
              "      <td>2019</td>\n",
              "    </tr>\n",
              "    <tr>\n",
              "      <th>2</th>\n",
              "      <td>California</td>\n",
              "      <td>Sacramento</td>\n",
              "      <td>509082</td>\n",
              "      <td>2019</td>\n",
              "    </tr>\n",
              "    <tr>\n",
              "      <th>3</th>\n",
              "      <td>Massachusetts</td>\n",
              "      <td>Boston</td>\n",
              "      <td>698898</td>\n",
              "      <td>2018</td>\n",
              "    </tr>\n",
              "  </tbody>\n",
              "</table>\n",
              "</div>"
            ],
            "text/plain": [
              "           State      Capital  Population  Year\n",
              "0          Texas       Austin      931830  2019\n",
              "1       Illinois  Springfield      114868  2019\n",
              "2     California   Sacramento      509082  2019\n",
              "3  Massachusetts       Boston      698898  2018"
            ]
          },
          "metadata": {
            "tags": []
          },
          "execution_count": 2
        }
      ]
    },
    {
      "cell_type": "code",
      "metadata": {
        "id": "ySkGjet5RCLY",
        "colab_type": "code",
        "colab": {
          "base_uri": "https://localhost:8080/",
          "height": 51
        },
        "outputId": "2cb99c91-1bd0-4d9c-ff77-fdb16c68de23"
      },
      "source": [
        "# create a Numoy array\n",
        "tuple_var = ([1.2, 2.0, 3.0, 4.0], [5, 6, 7, 8])\n",
        "np_2d_array = np.array( tuple_var )\n",
        "np_2d_array"
      ],
      "execution_count": 7,
      "outputs": [
        {
          "output_type": "execute_result",
          "data": {
            "text/plain": [
              "array([[1.2, 2. , 3. , 4. ],\n",
              "       [5. , 6. , 7. , 8. ]])"
            ]
          },
          "metadata": {
            "tags": []
          },
          "execution_count": 7
        }
      ]
    },
    {
      "cell_type": "code",
      "metadata": {
        "id": "yHGwdIMFSN4I",
        "colab_type": "code",
        "colab": {
          "base_uri": "https://localhost:8080/",
          "height": 34
        },
        "outputId": "12292dbe-e394-484c-ad8e-a5cba3dde4ca"
      },
      "source": [
        "# print the required message\n",
        "print('Hello, Capston Project Course.')"
      ],
      "execution_count": 8,
      "outputs": [
        {
          "output_type": "stream",
          "text": [
            "Hello, Capston Project Course.\n"
          ],
          "name": "stdout"
        }
      ]
    }
  ]
}