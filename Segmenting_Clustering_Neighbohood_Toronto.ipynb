{
  "nbformat": 4,
  "nbformat_minor": 0,
  "metadata": {
    "colab": {
      "name": "Untitled8.ipynb",
      "version": "0.3.2",
      "provenance": [],
      "include_colab_link": true
    },
    "kernelspec": {
      "name": "python3",
      "display_name": "Python 3"
    }
  },
  "cells": [
    {
      "cell_type": "markdown",
      "metadata": {
        "id": "view-in-github",
        "colab_type": "text"
      },
      "source": [
        "<a href=\"https://colab.research.google.com/github/AndrewZou/Coursera_Capstone/blob/master/Segmenting_Clustering_Neighbohood_Toronto.ipynb\" target=\"_parent\"><img src=\"https://colab.research.google.com/assets/colab-badge.svg\" alt=\"Open In Colab\"/></a>"
      ]
    },
    {
      "cell_type": "markdown",
      "metadata": {
        "id": "uH1IdFO-rbGf",
        "colab_type": "text"
      },
      "source": [
        "## Project Requirements\n",
        "\n",
        "### For this assignment, you will be required to explore and cluster the neighborhoods in Toronto.\n",
        "\n",
        "1. Start by creating a new Notebook for this assignment.\n",
        "2. Use the Notebook to build the code to scrape the following Wikipedia page, https://en.wikipedia.org/wiki/List_of_postal_codes_of_Canada:_M, in order to obtain the data that is in the table of postal codes and to transform the data into a pandas dataframe like the one shown below:\n",
        "     \n",
        "     <img src=\"https://d3c33hcgiwev3.cloudfront.net/imageAssetProxy.v1/7JXaz3NNEeiMwApe4i-fLg_40e690ae0e927abda2d4bde7d94ed133_Screen-Shot-2018-06-18-at-7.17.57-PM.png?expiry=1562198400000&hmac=Nkj2AC5q9FLDXpx94hMKUEmK-sPD-SW5DcIr85R9KfU\" alt=\"DataFrame Format\" title=\"Pandas DataFrame\" />\n",
        "3. To create the above dataframe:\n",
        "- The dataframe will consist of three columns: PostalCode, Borough, and Neighborhood\n",
        "- Only process the cells that have an assigned borough. Ignore cells with a borough that is __Not assigned__.\n",
        "- More than one neighborhood can exist in one postal code area. For example, in the table on the Wikipedia page, you will notice that **M5A** is listed twice and has two neighborhoods: **Harbourfront** and **Regent Park**. These two rows will be combined into one row with the neighborhoods separated with a comma as shown in __row 11__ in the above table.\n",
        "- If a cell has a borough but a **Not assigned** neighborhood, then the neighborhood will be the same as the borough. So for the __9th__ cell in the table on the Wikipedia page, the value of the Borough and the Neighborhood columns will be **Queen's Park**.\n",
        "- Clean your Notebook and add Markdown cells to explain your work and any assumptions you are making.\n",
        "- In the last cell of your notebook, use the **.shape** method to print the number of rows of your dataframe.\n",
        "4. Submit a link to your Notebook on your Github repository. (10 marks)\n",
        "\n",
        "Note: There are different website scraping libraries and packages in Python. One of the most common packages is BeautifulSoup. Here is the package's main documentation page: http://beautiful-soup-4.readthedocs.io/en/latest/\n",
        "\n",
        "The package is so popular that there is a plethora of tutorials and examples of how to use it. Here is a very good Youtube video on how to use the BeautifulSoup package: https://www.youtube.com/watch?v=ng2o98k983k\n",
        "\n",
        "Use the BeautifulSoup package or any other way you are comfortable with to transform the data in the table on the Wikipedia page into the above pandas dataframe"
      ]
    },
    {
      "cell_type": "code",
      "metadata": {
        "id": "JdBOEjCHrYG_",
        "colab_type": "code",
        "colab": {}
      },
      "source": [
        ""
      ],
      "execution_count": 0,
      "outputs": []
    }
  ]
}